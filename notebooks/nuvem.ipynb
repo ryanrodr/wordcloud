{
 "cells": [
  {
   "cell_type": "markdown",
   "metadata": {},
   "source": [
    "#### Importando as bibliotecas\n",
    "- `WordCloud` gera a nuvem de um texto com as palavras mais frequentes\n",
    "- `nltk` e `string` realizam o tratamento e processamento de texto \n",
    "- `matplotlib` configura e exibe a imagem da nuvem de palavras"
   ]
  },
  {
   "cell_type": "code",
   "execution_count": 17,
   "metadata": {},
   "outputs": [],
   "source": [
    "from wordcloud import WordCloud\n",
    "from nltk.corpus import stopwords\n",
    "import matplotlib.pyplot as plt\n",
    "import string\n",
    "import nltk\n",
    "nltk.download('stopwords', quiet=True)\n",
    "\n",
    "text = str(input('digite um texto:'))\n",
    "\n",
    "# Carregando as palavras comuns para serem removidas do texto\n",
    "stop_words = set(stopwords.words('portuguese'))\n",
    "\n",
    "# Remove a pontuação do texto e converte os caracteres para minúsculas \n",
    "texto_limpo = ''.join([char.lower() for char in text if char not in string.punctuation])\n",
    "\n",
    "# Separa as palavras do texto e remove as stop_words\n",
    "palavras = [palavra for palavra in texto_limpo.split() if palavra not in stop_words]"
   ]
  },
  {
   "cell_type": "code",
   "execution_count": null,
   "metadata": {},
   "outputs": [],
   "source": [
    "print(f'Texto sem pontuação:\\n{texto_limpo}\\n\\nTexto separado em palavras:\\n{palavras}')"
   ]
  },
  {
   "cell_type": "code",
   "execution_count": null,
   "metadata": {},
   "outputs": [],
   "source": [
    "# Gerar a nuvem de palavras com as palavras já tratadas\n",
    "wordcloud = WordCloud(width=800,\n",
    "                      height=400,\n",
    "                      background_color='white',\n",
    "                      max_words=200).generate(' '.join(palavras))\n",
    "\n",
    "# Configurar o tamanho da imagem e suavizar a exibição\n",
    "plt.figure(figsize=(10, 5))\n",
    "plt.imshow(wordcloud, interpolation='bilinear')\n",
    "plt.axis('off')\n",
    "plt.show()"
   ]
  },
  {
   "cell_type": "code",
   "execution_count": null,
   "metadata": {},
   "outputs": [],
   "source": []
  }
 ],
 "metadata": {
  "kernelspec": {
   "display_name": ".venv",
   "language": "python",
   "name": "python3"
  },
  "language_info": {
   "codemirror_mode": {
    "name": "ipython",
    "version": 3
   },
   "file_extension": ".py",
   "mimetype": "text/x-python",
   "name": "python",
   "nbconvert_exporter": "python",
   "pygments_lexer": "ipython3",
   "version": "3.9.13"
  }
 },
 "nbformat": 4,
 "nbformat_minor": 2
}
